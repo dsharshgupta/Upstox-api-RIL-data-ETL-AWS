{
  "nbformat": 4,
  "nbformat_minor": 0,
  "metadata": {
    "colab": {
      "provenance": []
    },
    "kernelspec": {
      "name": "python3",
      "display_name": "Python 3"
    },
    "language_info": {
      "name": "python"
    }
  },
  "cells": [
    {
      "cell_type": "markdown",
      "source": [
        "**Creating time for last 5 years**"
      ],
      "metadata": {
        "id": "_Mtbffi1PTl-"
      }
    },
    {
      "cell_type": "code",
      "source": [
        "from datetime import datetime, timedelta\n",
        "end = str(datetime.now().year) + \"-\" + str(datetime.now().month).zfill(2) + \"-\" + str(datetime.now().day).zfill(2)\n",
        "da = datetime.now() - timedelta(days=365*5)\n",
        "start = str(da.year) + \"-\" + str(da.month).zfill(2) + \"-\" + str(da.day).zfill(2)"
      ],
      "metadata": {
        "id": "A3hZBlEbV5n2"
      },
      "execution_count": 87,
      "outputs": []
    },
    {
      "cell_type": "markdown",
      "source": [
        "**Fetching Data**"
      ],
      "metadata": {
        "id": "kDQKBAkSPY5Z"
      }
    },
    {
      "cell_type": "code",
      "source": [
        "import requests\n",
        "\n",
        "url = f'https://api.upstox.com/v2/historical-candle/NSE_EQ%7CINE002A01018/day/{end}/{start}'\n",
        "headers = {\n",
        "    'Accept': 'application/json'\n",
        "}\n",
        "\n",
        "response = requests.get(url, headers=headers)\n",
        "if response.status_code == 200:\n",
        "    data = response.json()\n",
        "else:\n",
        "    print(f\"Error: {response.status_code} - {response.text}\")"
      ],
      "metadata": {
        "id": "380jynpwOOE4"
      },
      "execution_count": 89,
      "outputs": []
    },
    {
      "cell_type": "markdown",
      "source": [
        "**Processing Data from json**"
      ],
      "metadata": {
        "id": "4S9TyUJyPiSD"
      }
    },
    {
      "cell_type": "code",
      "source": [
        "candels = data['data']['candles']\n",
        "candels_list = []\n",
        "for row in candels:\n",
        "  date = row[0]\n",
        "  open = row[1]\n",
        "  high = row[2]\n",
        "  low = row[3]\n",
        "  close = row[4]\n",
        "  volume = row[5]\n",
        "  ele = {\"date\":date,\"open\":open,\"high\":high,\"low\":low,\"close\":close,\"volume\":volume}\n",
        "  candels_list.append(ele)"
      ],
      "metadata": {
        "id": "W2Xj1s7xSjKx"
      },
      "execution_count": 93,
      "outputs": []
    },
    {
      "cell_type": "markdown",
      "source": [
        "**Creating DataFrame**"
      ],
      "metadata": {
        "id": "dpJJpDl4PyeE"
      }
    },
    {
      "cell_type": "code",
      "source": [
        "import pandas as pd\n",
        "data_df = pd.DataFrame.from_dict(candels_list)\n",
        "data_df['date'] = pd.to_datetime(data_df['date']).dt.date"
      ],
      "metadata": {
        "id": "gLFQs426T_WA"
      },
      "execution_count": 95,
      "outputs": []
    }
  ]
}